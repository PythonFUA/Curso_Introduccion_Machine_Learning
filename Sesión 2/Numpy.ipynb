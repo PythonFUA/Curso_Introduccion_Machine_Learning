{
  "nbformat": 4,
  "nbformat_minor": 0,
  "metadata": {
    "colab": {
      "name": "Numpy",
      "provenance": [],
      "collapsed_sections": []
    },
    "kernelspec": {
      "name": "python3",
      "display_name": "Python 3"
    }
  },
  "cells": [
    {
      "cell_type": "markdown",
      "metadata": {
        "id": "RVxHpsbcExUD"
      },
      "source": [
        "\n",
        "\n",
        "<p><img alt=\"logo.fua\" height=\"100px\" src='https://drive.google.com/uc?export=view&id=1s0UktWjCsp8F6Q6EmCjfofwVYH_1tWVE' align=\"left\" hspace=\"10px\" vspace=\"5px\"></p>\n",
        "\n",
        "\n",
        "\n",
        "\n",
        "<h1><center><font size=\"6px\"> <strong>INTRODUCCIÓN A PANDAS </font> </strong></center></h1>\n",
        "\n",
        "#<center> <font size=\"4.5\" >**FACULTAD DE CIENCIAS Y HUMANIDADES**<center>"
      ]
    },
    {
      "cell_type": "markdown",
      "metadata": {
        "id": "W5MTMZ5j7NQP"
      },
      "source": [
        "# **¿Qué es Numpy?**\n",
        "\n",
        "Es un paquete para *computación científica* en Python que proporciona la capacidad para trabajar con arreglos multidimensionales y varios objetos derivados (matrices por ejemplo). Esta librería incluye una gran variedad de rutinas para operaciones rápidas en arreglos entre las que se destacan:\n",
        "\n",
        "* manipulación matemática, lógica y de formas, \n",
        "* clasificación y selección,\n",
        "* transformación discreta de Fourier,\n",
        "* álgebra lineal básica, \n",
        "* operaciones estadísticas básicas, simulación aleatoria y mucho más.\n",
        "\n",
        "Para mayor información se puede consultar el tutorial de [NumpY](https://numpy.org/doc/1.20/numpy-user.pdf)"
      ]
    },
    {
      "cell_type": "code",
      "metadata": {
        "id": "DeqCsh11rXBL"
      },
      "source": [
        "#importando la librería\n",
        "import numpy as np # import (paquete) as (alias)"
      ],
      "execution_count": null,
      "outputs": []
    },
    {
      "cell_type": "code",
      "metadata": {
        "id": "z21JdfCyvAF3"
      },
      "source": [
        "np. #¿Que contiene Numpy?"
      ],
      "execution_count": null,
      "outputs": []
    },
    {
      "cell_type": "markdown",
      "metadata": {
        "id": "7EhEIraKe-SC"
      },
      "source": [
        "Un **array** es una estructura de datos de un mismo tipo organizada en forma de tabla o cuadrícula de distintas dimensiones."
      ]
    },
    {
      "cell_type": "markdown",
      "metadata": {
        "id": "sa2hIwvXeOPS"
      },
      "source": [
        "<img src=\"https://drive.google.com/uc?id=1TJ7ScqEezKMKi5o8lQ1icHc6KizVbNzc\" width=\"600px\" height=\"350\">\n",
        "</center>\n",
        "\n",
        "\n"
      ]
    },
    {
      "cell_type": "code",
      "metadata": {
        "id": "q5_wp0ZC-eB8",
        "colab": {
          "base_uri": "https://localhost:8080/"
        },
        "outputId": "e509f520-77c0-41f1-d9d4-4e2637b2d460"
      },
      "source": [
        "A= np.arange(-1,10,2) #Un primer arreglo\n",
        "A.shape"
      ],
      "execution_count": null,
      "outputs": [
        {
          "output_type": "execute_result",
          "data": {
            "text/plain": [
              "(6,)"
            ]
          },
          "metadata": {
            "tags": []
          },
          "execution_count": 6
        }
      ]
    },
    {
      "cell_type": "code",
      "metadata": {
        "id": "4jfljC3P_RAb",
        "colab": {
          "base_uri": "https://localhost:8080/"
        },
        "outputId": "bda0cdca-d4d1-4d08-b3d2-7738f3666853"
      },
      "source": [
        "A = np.arange(-1,10,2) #Cuando se asigna un valor, el resultado no se imprime.\n",
        "A "
      ],
      "execution_count": null,
      "outputs": [
        {
          "output_type": "execute_result",
          "data": {
            "text/plain": [
              "array([-1,  1,  3,  5,  7,  9])"
            ]
          },
          "metadata": {
            "tags": []
          },
          "execution_count": 4
        }
      ]
    },
    {
      "cell_type": "code",
      "metadata": {
        "id": "kRFbQBfP_blz",
        "colab": {
          "base_uri": "https://localhost:8080/"
        },
        "outputId": "a4a8e3ef-6bf9-4541-c06a-6c721b77653b"
      },
      "source": [
        "B = A.reshape(2,3) #Para cambiar la forma del arreglo de tal forma que tenga 2 filas y 3 columnas\n",
        "B"
      ],
      "execution_count": null,
      "outputs": [
        {
          "output_type": "execute_result",
          "data": {
            "text/plain": [
              "array([[-1,  1,  3],\n",
              "       [ 5,  7,  9]])"
            ]
          },
          "metadata": {
            "tags": []
          },
          "execution_count": 7
        }
      ]
    },
    {
      "cell_type": "code",
      "metadata": {
        "colab": {
          "base_uri": "https://localhost:8080/"
        },
        "id": "w_vXXLj8qs9Y",
        "outputId": "ed0a7993-51a6-41d0-fd37-e69352f9b74d"
      },
      "source": [
        "b = np.array([[0,1,2,3],[4,5,6,7],[4,5,6,7]])    # Creación de un array de rango 2\n",
        "print(b)\n",
        "print(b.shape)                     # Impresión de las dimensiones \"(2, 4)\""
      ],
      "execution_count": null,
      "outputs": [
        {
          "output_type": "stream",
          "text": [
            "[[0 1 2 3]\n",
            " [4 5 6 7]\n",
            " [4 5 6 7]]\n",
            "(3, 4)\n"
          ],
          "name": "stdout"
        }
      ]
    },
    {
      "cell_type": "code",
      "metadata": {
        "colab": {
          "base_uri": "https://localhost:8080/"
        },
        "id": "E9pE44LfqtA0",
        "outputId": "5b659393-e475-426e-c0a8-b936f888bd88"
      },
      "source": [
        "a = np.zeros((2,2))                        # Creación de un array de zeros\n",
        "print(\"Array de ceros\", a)                 # Imprime \"[[ 0.  0.]\n",
        "                                           #          [ 0.  0.]]\"\n",
        "\n",
        "b = np.ones((1,2))                         # Creación de un array de unos\n",
        "print(\"Arrays de unos\", b)                 # Imprime \"[[ 1.  1.]]\"\n",
        "\n",
        "c = np.full((2,2), 8)                      # Creación de un array de una costante\n",
        "print(\"Array constante\", c)                # Imprime \"[[ 8.  8.]\n",
        "                                           #          [ 8.  8.]]\"\n",
        "\n",
        "d = np.eye(2)                              # Creación de la matriz indentidad de 2x2.\n",
        "print(\"Matriz identidad 2x2\", d)           # Imprime \"[[ 1.  0.]\n",
        "                                           #          [ 0.  1.]]\"\n",
        "\n",
        "e = np.arange(0, 20, 2)                    # Creación de un vector lleno de una secuencia lineal\n",
        "print(\"Array de una secuencia lineal\" ,e)  # que comience en 0, finalice en 18, con paso 2.\n",
        "\n",
        "\n",
        "f = np.linspace(0, 1, 5)                   # Crea un vector de cinco valores espaciados \n",
        "print(\"Array de una secuencia lineal2\",f)  # uniformemente entre 0 y 1.   \n",
        "\n",
        "\n",
        "g = np.random.random((2,2))                # Creación de una matriz de 2x2 de valores aleatorios.\n",
        "print(\"Array de números aleatorios(u)\", g) # distribuidos uniformemente.\n",
        "\n",
        "\n",
        "h = np.random.normal(0, 1, (3, 3))         # Creación una matriz 3x3 de valores aleatorios normalmente \n",
        "print(\"Array de números aleatorios(n)\", h) # distribuidos con media 0 y desviación estándar 1.\n",
        "\n",
        "\n",
        "i = np.random.randint(0, 10, (3, 3))       # Creación de una matriz 3x3 de números enteros aleatorios\n",
        "print(\"Array de números aleatorios(i)\",i)  # en el intervalo [0,10)\n"
      ],
      "execution_count": null,
      "outputs": [
        {
          "output_type": "stream",
          "text": [
            "Array de ceros [[0. 0.]\n",
            " [0. 0.]]\n",
            "Arrays de unos [[1. 1.]]\n",
            "Array constante [[8 8]\n",
            " [8 8]]\n",
            "Matriz identidad 2x2 [[1. 0.]\n",
            " [0. 1.]]\n",
            "Array de una secuencia lineal [ 0  2  4  6  8 10 12 14 16 18]\n",
            "Array de una secuencia lineal2 [0.   0.25 0.5  0.75 1.  ]\n",
            "Array de números aleatorios(u) [[0.51989479 0.97598464]\n",
            " [0.27627394 0.13487288]]\n",
            "Array de números aleatorios(n) [[ 1.07703738  0.38255813 -1.8279359 ]\n",
            " [-1.61604915 -0.54775481 -1.19038275]\n",
            " [-2.64572272 -0.45233585 -0.8473888 ]]\n",
            "Array de números aleatorios(i) [[7 4 9]\n",
            " [0 4 7]\n",
            " [3 6 9]]\n"
          ],
          "name": "stdout"
        }
      ]
    },
    {
      "cell_type": "markdown",
      "metadata": {
        "id": "bwzUhldQtLSp"
      },
      "source": [
        "# **Atributos**\n",
        "\n",
        "Cada array tiene como atributos: <code>ndim</code>  (el número de dimensiones), <code>shape</code> (el tamaño de cada dimensión) y <code>size</code> (el tamaño total de la matriz o número de elementos)"
      ]
    },
    {
      "cell_type": "code",
      "metadata": {
        "colab": {
          "base_uri": "https://localhost:8080/"
        },
        "id": "DX7fk95_qtD3",
        "outputId": "619b1501-aea4-4c2d-9717-68fe3ff41e07"
      },
      "source": [
        "x1 = np.random.randint(10, size=6)          # array unidimensional\n",
        "x2 = np.random.randint(10, size=(3, 4))     # array bidimensional\n",
        "x3 = np.random.randint(10, size=(3, 4, 5))  # array tridimensional\n",
        "\n",
        "print(x3)\n",
        "print(\"ndim: \", x3.ndim)\n",
        "print(\"shape:\", x3.shape)\n",
        "print(\"size: \", x3.size,\"\\n\")"
      ],
      "execution_count": null,
      "outputs": [
        {
          "output_type": "stream",
          "text": [
            "[[[1 1 1 3 8]\n",
            "  [6 6 5 8 6]\n",
            "  [4 1 4 8 6]\n",
            "  [0 1 8 0 1]]\n",
            "\n",
            " [[0 3 9 9 5]\n",
            "  [1 6 7 0 1]\n",
            "  [2 4 6 2 1]\n",
            "  [0 0 8 2 4]]\n",
            "\n",
            " [[5 0 0 0 5]\n",
            "  [0 1 0 3 5]\n",
            "  [4 6 8 2 6]\n",
            "  [8 5 7 3 4]]]\n",
            "ndim:  3\n",
            "shape: (3, 4, 5)\n",
            "size:  60 \n",
            "\n"
          ],
          "name": "stdout"
        }
      ]
    },
    {
      "cell_type": "markdown",
      "metadata": {
        "id": "b6yGNIIdtz8T"
      },
      "source": [
        "## **Indexado**\n",
        "\n",
        "\n",
        "\n",
        "Al igual que en las librerias estándar de Python, se puede acceder a la i-ésima componente de un array especificando el índice deseado entre []"
      ]
    },
    {
      "cell_type": "code",
      "metadata": {
        "colab": {
          "base_uri": "https://localhost:8080/"
        },
        "id": "StNXRST2NYgM",
        "outputId": "8f284b55-828b-47c1-8a62-9c89c5114728"
      },
      "source": [
        "x1"
      ],
      "execution_count": null,
      "outputs": [
        {
          "output_type": "execute_result",
          "data": {
            "text/plain": [
              "array([8, 8, 1, 9, 7, 4])"
            ]
          },
          "metadata": {
            "tags": []
          },
          "execution_count": 12
        }
      ]
    },
    {
      "cell_type": "code",
      "metadata": {
        "id": "9QfT5hdKBVnT",
        "colab": {
          "base_uri": "https://localhost:8080/"
        },
        "outputId": "49f42b16-a05c-4cf4-92ea-5bf4c7a6bbe9"
      },
      "source": [
        "\n",
        "print(x1[3])"
      ],
      "execution_count": null,
      "outputs": [
        {
          "output_type": "stream",
          "text": [
            "9\n"
          ],
          "name": "stdout"
        }
      ]
    },
    {
      "cell_type": "code",
      "metadata": {
        "colab": {
          "base_uri": "https://localhost:8080/"
        },
        "id": "D24pVuf-uMqg",
        "outputId": "5bc41afc-c290-4085-dd4d-bb39746bced1"
      },
      "source": [
        "#caso tridimensional\n",
        "x3"
      ],
      "execution_count": null,
      "outputs": [
        {
          "output_type": "execute_result",
          "data": {
            "text/plain": [
              "array([[[1, 1, 1, 3, 8],\n",
              "        [6, 6, 5, 8, 6],\n",
              "        [4, 1, 4, 8, 6],\n",
              "        [0, 1, 8, 0, 1]],\n",
              "\n",
              "       [[0, 3, 9, 9, 5],\n",
              "        [1, 6, 7, 0, 1],\n",
              "        [2, 4, 6, 2, 1],\n",
              "        [0, 0, 8, 2, 4]],\n",
              "\n",
              "       [[5, 0, 0, 0, 5],\n",
              "        [0, 1, 0, 3, 5],\n",
              "        [4, 6, 8, 2, 6],\n",
              "        [8, 5, 7, 3, 4]]])"
            ]
          },
          "metadata": {
            "tags": []
          },
          "execution_count": 16
        }
      ]
    },
    {
      "cell_type": "code",
      "metadata": {
        "colab": {
          "base_uri": "https://localhost:8080/"
        },
        "id": "yOnZK5DhNygp",
        "outputId": "a9b3d3b3-a611-4818-b19a-6dfc34ceeca5"
      },
      "source": [
        "x3[1,1,1]"
      ],
      "execution_count": null,
      "outputs": [
        {
          "output_type": "execute_result",
          "data": {
            "text/plain": [
              "6"
            ]
          },
          "metadata": {
            "tags": []
          },
          "execution_count": 20
        }
      ]
    },
    {
      "cell_type": "code",
      "metadata": {
        "id": "t39a_08tBhZ8",
        "colab": {
          "base_uri": "https://localhost:8080/"
        },
        "outputId": "60ec28fd-7068-427b-9ac9-3974fe87cbae"
      },
      "source": [
        "print(\"Dos formas de acceder al mismo elemento: \\n\")\n",
        "print(\"x3[1][1][0] =\", x3[1][1][0])\n",
        "print(\"x3[1,1,0] =\", x3[1,1,0])"
      ],
      "execution_count": null,
      "outputs": [
        {
          "output_type": "stream",
          "text": [
            "Dos formas de acceder al mismo elemento: \n",
            "\n",
            "x3[1][1][0] = 8\n",
            "x3[1,1,0] = 8\n"
          ],
          "name": "stdout"
        }
      ]
    },
    {
      "cell_type": "markdown",
      "metadata": {
        "id": "qA5MDCqeuwyV"
      },
      "source": [
        "# **Segmentación**\n",
        "\n",
        "La sintaxis de segmentación NumPy sigue la de la lista estándar de Python: <code>x[inicio:final:paso]</code>"
      ]
    },
    {
      "cell_type": "code",
      "metadata": {
        "id": "eTkxCV_R_6Cc",
        "colab": {
          "base_uri": "https://localhost:8080/"
        },
        "outputId": "8addce45-0450-46c9-e827-e0dfc6cb5652"
      },
      "source": [
        "x = np.arange(10) \n",
        "x"
      ],
      "execution_count": null,
      "outputs": [
        {
          "output_type": "execute_result",
          "data": {
            "text/plain": [
              "array([0, 1, 2, 3, 4, 5, 6, 7, 8, 9])"
            ]
          },
          "metadata": {
            "tags": []
          },
          "execution_count": 21
        }
      ]
    },
    {
      "cell_type": "code",
      "metadata": {
        "colab": {
          "base_uri": "https://localhost:8080/"
        },
        "id": "hrgTjL2TvEMW",
        "outputId": "f6998017-ab4b-45c0-8906-8eba0baf398e"
      },
      "source": [
        "x[::2]"
      ],
      "execution_count": null,
      "outputs": [
        {
          "output_type": "execute_result",
          "data": {
            "text/plain": [
              "array([0, 2, 4, 6, 8])"
            ]
          },
          "metadata": {
            "tags": []
          },
          "execution_count": 25
        }
      ]
    },
    {
      "cell_type": "code",
      "metadata": {
        "colab": {
          "base_uri": "https://localhost:8080/"
        },
        "id": "dy014g7fvEPs",
        "outputId": "30735b79-ccd9-4768-bdcd-80aa2146b13c"
      },
      "source": [
        "x[5::-2]"
      ],
      "execution_count": null,
      "outputs": [
        {
          "output_type": "execute_result",
          "data": {
            "text/plain": [
              "array([5, 3, 1])"
            ]
          },
          "metadata": {
            "tags": []
          },
          "execution_count": 26
        }
      ]
    },
    {
      "cell_type": "code",
      "metadata": {
        "colab": {
          "base_uri": "https://localhost:8080/"
        },
        "id": "v_huinDlOkJc",
        "outputId": "f6aad163-bbd1-4dbc-f5f1-e453155d9e56"
      },
      "source": [
        "x3"
      ],
      "execution_count": null,
      "outputs": [
        {
          "output_type": "execute_result",
          "data": {
            "text/plain": [
              "array([[[1, 1, 1, 3, 8],\n",
              "        [6, 6, 5, 8, 6],\n",
              "        [4, 1, 4, 8, 6],\n",
              "        [0, 1, 8, 0, 1]],\n",
              "\n",
              "       [[0, 3, 9, 9, 5],\n",
              "        [1, 6, 7, 0, 1],\n",
              "        [2, 4, 6, 2, 1],\n",
              "        [0, 0, 8, 2, 4]],\n",
              "\n",
              "       [[5, 0, 0, 0, 5],\n",
              "        [0, 1, 0, 3, 5],\n",
              "        [4, 6, 8, 2, 6],\n",
              "        [8, 5, 7, 3, 4]]])"
            ]
          },
          "metadata": {
            "tags": []
          },
          "execution_count": 22
        }
      ]
    },
    {
      "cell_type": "code",
      "metadata": {
        "colab": {
          "base_uri": "https://localhost:8080/"
        },
        "id": "M2OvYP9BvEVg",
        "outputId": "fc7a13d8-a5c6-4f8c-feb0-c6eeed0b89a3"
      },
      "source": [
        "print(x3)\n",
        "#Hasta el 2do array, dos filas y dos columnas'\n",
        "x3[:2,:2,:2]"
      ],
      "execution_count": null,
      "outputs": [
        {
          "output_type": "stream",
          "text": [
            "[[[1 1 1 3 8]\n",
            "  [6 6 5 8 6]\n",
            "  [4 1 4 8 6]\n",
            "  [0 1 8 0 1]]\n",
            "\n",
            " [[0 3 9 9 5]\n",
            "  [1 6 7 0 1]\n",
            "  [2 4 6 2 1]\n",
            "  [0 0 8 2 4]]\n",
            "\n",
            " [[5 0 0 0 5]\n",
            "  [0 1 0 3 5]\n",
            "  [4 6 8 2 6]\n",
            "  [8 5 7 3 4]]]\n"
          ],
          "name": "stdout"
        },
        {
          "output_type": "execute_result",
          "data": {
            "text/plain": [
              "array([[[1, 1],\n",
              "        [6, 6]],\n",
              "\n",
              "       [[0, 3],\n",
              "        [1, 6]]])"
            ]
          },
          "metadata": {
            "tags": []
          },
          "execution_count": 23
        }
      ]
    },
    {
      "cell_type": "markdown",
      "metadata": {
        "id": "7pIf__bJ7896"
      },
      "source": [
        "*A* veces es útil copiar explícitamente los datos dentro de un array o un  subarray. Esto se puede hacer más fácilmente con el\n",
        "método <code>copy()</code>"
      ]
    },
    {
      "cell_type": "code",
      "metadata": {
        "colab": {
          "base_uri": "https://localhost:8080/"
        },
        "id": "HifzejoEvEY2",
        "outputId": "0620c4e4-eca6-497f-a15c-1dcbd85f50cc"
      },
      "source": [
        "x2"
      ],
      "execution_count": null,
      "outputs": [
        {
          "output_type": "execute_result",
          "data": {
            "text/plain": [
              "array([[7, 9, 6, 1],\n",
              "       [0, 7, 4, 8],\n",
              "       [8, 5, 7, 3]])"
            ]
          },
          "metadata": {
            "tags": []
          },
          "execution_count": 30
        }
      ]
    },
    {
      "cell_type": "code",
      "metadata": {
        "colab": {
          "base_uri": "https://localhost:8080/"
        },
        "id": "Yd0Q3_WNvEb2",
        "outputId": "9ce857ed-0ef7-422f-9b49-bc83afe651c2"
      },
      "source": [
        "cop =x2[:2,1].copy()\n",
        "cop"
      ],
      "execution_count": null,
      "outputs": [
        {
          "output_type": "execute_result",
          "data": {
            "text/plain": [
              "array([9, 7])"
            ]
          },
          "metadata": {
            "tags": []
          },
          "execution_count": 35
        }
      ]
    },
    {
      "cell_type": "markdown",
      "metadata": {
        "id": "uN5Lx1y29FoB"
      },
      "source": [
        "# **Reshape**\n",
        "\n",
        "\n",
        "\n",
        "Otro tipo útil de operación es el \"reshape\" de arrays. "
      ]
    },
    {
      "cell_type": "code",
      "metadata": {
        "colab": {
          "base_uri": "https://localhost:8080/"
        },
        "id": "uaudblpTvEfP",
        "outputId": "9c2146e5-0664-4b1a-fe07-e242413b0bf9"
      },
      "source": [
        "grilla = np.arange(1, 10)\n",
        "grilla"
      ],
      "execution_count": null,
      "outputs": [
        {
          "output_type": "execute_result",
          "data": {
            "text/plain": [
              "array([1, 2, 3, 4, 5, 6, 7, 8, 9])"
            ]
          },
          "metadata": {
            "tags": []
          },
          "execution_count": 24
        }
      ]
    },
    {
      "cell_type": "code",
      "metadata": {
        "colab": {
          "base_uri": "https://localhost:8080/"
        },
        "id": "toScgIIY9ExB",
        "outputId": "573b8f5a-94a5-43ec-bac5-ea9f8027c7de"
      },
      "source": [
        "grilla.reshape(3,3)"
      ],
      "execution_count": null,
      "outputs": [
        {
          "output_type": "execute_result",
          "data": {
            "text/plain": [
              "array([[1, 2, 3],\n",
              "       [4, 5, 6],\n",
              "       [7, 8, 9]])"
            ]
          },
          "metadata": {
            "tags": []
          },
          "execution_count": 27
        }
      ]
    },
    {
      "cell_type": "code",
      "metadata": {
        "colab": {
          "base_uri": "https://localhost:8080/"
        },
        "id": "lTranWus9E0P",
        "outputId": "268114aa-41ed-4c07-9b31-c274b0f84181"
      },
      "source": [
        "arr = np.array([1, 2, 3, 4, 5, 6, 7, 8, 9, 10, 11, 12])\n",
        "newarr = arr.reshape(2, 3, 2)\n",
        "print(newarr)\n",
        "newarr.shape"
      ],
      "execution_count": null,
      "outputs": [
        {
          "output_type": "stream",
          "text": [
            "[[[ 1  2]\n",
            "  [ 3  4]\n",
            "  [ 5  6]]\n",
            "\n",
            " [[ 7  8]\n",
            "  [ 9 10]\n",
            "  [11 12]]]\n"
          ],
          "name": "stdout"
        },
        {
          "output_type": "execute_result",
          "data": {
            "text/plain": [
              "(2, 3, 2)"
            ]
          },
          "metadata": {
            "tags": []
          },
          "execution_count": 48
        }
      ]
    },
    {
      "cell_type": "markdown",
      "metadata": {
        "id": "hjtF_zU6-VLB"
      },
      "source": [
        "# **Operaciones entre arrays** \n",
        "\n",
        "\n",
        "**Operaciones vectorizadas**\n",
        "\n",
        "El cálculo con arrays en NumPy puede ser muy rápido o muy lento. La clave para hacerlo rápido es usar operaciones *vectorizadas*, generalmente implementadas a través de las funciones universales de NumPy (ufuncs)"
      ]
    },
    {
      "cell_type": "code",
      "metadata": {
        "colab": {
          "base_uri": "https://localhost:8080/"
        },
        "id": "f63f1KJX9E33",
        "outputId": "0d0bf36c-022f-4587-e195-745c089b8dfd"
      },
      "source": [
        "x = np.linspace(0, 1, 5)\n",
        "x  "
      ],
      "execution_count": null,
      "outputs": [
        {
          "output_type": "execute_result",
          "data": {
            "text/plain": [
              "array([0.  , 0.25, 0.5 , 0.75, 1.  ])"
            ]
          },
          "metadata": {
            "tags": []
          },
          "execution_count": 29
        }
      ]
    },
    {
      "cell_type": "code",
      "metadata": {
        "colab": {
          "base_uri": "https://localhost:8080/"
        },
        "id": "HFtDKPl_9E7f",
        "outputId": "121d5a3b-650d-480f-fea0-09336ef43fde"
      },
      "source": [
        "y = np.linspace(1, 2, 5)  \n",
        "y"
      ],
      "execution_count": null,
      "outputs": [
        {
          "output_type": "execute_result",
          "data": {
            "text/plain": [
              "array([1.  , 1.25, 1.5 , 1.75, 2.  ])"
            ]
          },
          "metadata": {
            "tags": []
          },
          "execution_count": 30
        }
      ]
    },
    {
      "cell_type": "code",
      "metadata": {
        "colab": {
          "base_uri": "https://localhost:8080/"
        },
        "id": "J3etL-AX9E-7",
        "outputId": "3fcf7702-362c-44de-e25e-f521a905eeac"
      },
      "source": [
        "x/y"
      ],
      "execution_count": null,
      "outputs": [
        {
          "output_type": "execute_result",
          "data": {
            "text/plain": [
              "array([0.        , 0.2       , 0.33333333, 0.42857143, 0.5       ])"
            ]
          },
          "metadata": {
            "tags": []
          },
          "execution_count": 31
        }
      ]
    },
    {
      "cell_type": "code",
      "metadata": {
        "colab": {
          "base_uri": "https://localhost:8080/"
        },
        "id": "KbfddRLS9FDE",
        "outputId": "11e9859c-cd49-4056-b595-6c5b69b35764"
      },
      "source": [
        "x = np.arange(1,5)\n",
        "print(x)\n",
        "\n",
        "# Operadores aritméticos\n",
        "print('x+2 = ',np.add(x,2))\n",
        "print('x-2 =',np.subtract(x,2))\n",
        "print('-x =',np.negative(x))\n",
        "print('x*2 =',np.multiply(x,2))\n",
        "print('x/2 =',np.divide(x,2))\n",
        "print('x^2 =',np.power(x,2))"
      ],
      "execution_count": null,
      "outputs": [
        {
          "output_type": "stream",
          "text": [
            "[1 2 3 4]\n",
            "x+2 =  [3 4 5 6]\n",
            "x-2 = [-1  0  1  2]\n",
            "-x = [-1 -2 -3 -4]\n",
            "x*2 = [2 4 6 8]\n",
            "x/2 = [0.5 1.  1.5 2. ]\n",
            "x^2 = [ 1  4  9 16]\n"
          ],
          "name": "stdout"
        }
      ]
    },
    {
      "cell_type": "code",
      "metadata": {
        "colab": {
          "base_uri": "https://localhost:8080/"
        },
        "id": "oC_bZc_1_Ynt",
        "outputId": "e73a26c5-104e-4367-f99c-fb12d60ad201"
      },
      "source": [
        "# Funciones trigonométricas\n",
        "theta = np.linspace(0,np.pi,3)\n",
        "\n",
        "print('sin(theta) =',np.sin(theta))\n",
        "print('cos(theta) =',np.cos(theta))\n",
        "\n"
      ],
      "execution_count": null,
      "outputs": [
        {
          "output_type": "stream",
          "text": [
            "sin(theta) = [0.0000000e+00 1.0000000e+00 1.2246468e-16]\n",
            "cos(theta) = [ 1.000000e+00  6.123234e-17 -1.000000e+00]\n"
          ],
          "name": "stdout"
        }
      ]
    },
    {
      "cell_type": "code",
      "metadata": {
        "colab": {
          "base_uri": "https://localhost:8080/"
        },
        "id": "wma8U2K49FGC",
        "outputId": "0d03ca97-4152-46a0-9959-082b7d237867"
      },
      "source": [
        "# Exponenciales y logaritmos\n",
        "print(\"e^x =\", np.exp(x))\n",
        "print(\"2^x =\", np.exp2(x))\n",
        "print(\"3^x =\", np.power(3, x))\n",
        "\n",
        "print(\"ln(x) =\", np.log(x))\n",
        "print(\"log2(x) =\", np.log2(x))\n",
        "print(\"log10(x) =\", np.log10(x))"
      ],
      "execution_count": null,
      "outputs": [
        {
          "output_type": "stream",
          "text": [
            "e^x = [ 2.71828183  7.3890561  20.08553692 54.59815003]\n",
            "2^x = [ 2.  4.  8. 16.]\n",
            "3^x = [ 3  9 27 81]\n",
            "ln(x) = [0.         0.69314718 1.09861229 1.38629436]\n",
            "log2(x) = [0.        1.        1.5849625 2.       ]\n",
            "log10(x) = [0.         0.30103    0.47712125 0.60205999]\n"
          ],
          "name": "stdout"
        }
      ]
    },
    {
      "cell_type": "code",
      "metadata": {
        "id": "CQ-2mzXxQUYs"
      },
      "source": [
        ""
      ],
      "execution_count": null,
      "outputs": []
    },
    {
      "cell_type": "markdown",
      "metadata": {
        "id": "emiNOzj4_nUR"
      },
      "source": [
        "## **Operaciones Básicas.**"
      ]
    },
    {
      "cell_type": "code",
      "metadata": {
        "colab": {
          "base_uri": "https://localhost:8080/"
        },
        "id": "nxQoP9UX_mhT",
        "outputId": "564ddc0d-43e9-4cd8-e4da-dffd6e649662"
      },
      "source": [
        "x = np.array([[1,2],[3,4]])\n",
        "y = np.array([[5,6],[7,8]])\n",
        "\n",
        "# Suma elemento a elemento\n",
        "print(x + y)\n",
        "print(np.add(x, y))\n",
        "\n",
        "# Resta elemento a elemento.\n",
        "print(x - y)\n",
        "print(np.subtract(x, y))\n",
        "\n",
        "# Multiplicación elemento a elemento.\n",
        "print(x * y)\n",
        "print(np.multiply(x, y))\n",
        "\n",
        "# División elemento a elemento.\n",
        "print(x / y)\n",
        "print(np.divide(x, y))\n",
        "\n",
        "# Raiz cuadrada a cada elmento.\n",
        "print(np.sqrt(x))"
      ],
      "execution_count": null,
      "outputs": [
        {
          "output_type": "stream",
          "text": [
            "[[ 6  8]\n",
            " [10 12]]\n",
            "[[ 6  8]\n",
            " [10 12]]\n",
            "[[-4 -4]\n",
            " [-4 -4]]\n",
            "[[-4 -4]\n",
            " [-4 -4]]\n",
            "[[ 5 12]\n",
            " [21 32]]\n",
            "[[ 5 12]\n",
            " [21 32]]\n",
            "[[0.2        0.33333333]\n",
            " [0.42857143 0.5       ]]\n",
            "[[0.2        0.33333333]\n",
            " [0.42857143 0.5       ]]\n",
            "[[1.         1.41421356]\n",
            " [1.73205081 2.        ]]\n"
          ],
          "name": "stdout"
        }
      ]
    },
    {
      "cell_type": "code",
      "metadata": {
        "colab": {
          "base_uri": "https://localhost:8080/"
        },
        "id": "HCCp6DYd_mk2",
        "outputId": "ad4492ed-eb53-4ab1-fba8-a69cb9df0f1d"
      },
      "source": [
        "x = np.array([[1,2],[3,4]])\n",
        "print(\"Suma total de los elementos del array\", np.sum(x))  # Calculo de la suma de todos los elementos.\n",
        "print(\"Suma de cada columna\",np.sum(x, axis=0))  # Suma de cada columna\n",
        "print(\"Suma de cada fila\",np.sum(x, axis=1))  # Suma de cada fila"
      ],
      "execution_count": null,
      "outputs": [
        {
          "output_type": "stream",
          "text": [
            "Suma total de los elementos del array 10\n",
            "Suma de cada columna [4 6]\n",
            "Suma de cada fila [3 7]\n"
          ],
          "name": "stdout"
        }
      ]
    },
    {
      "cell_type": "markdown",
      "metadata": {
        "id": "JlkukiDeA0Bb"
      },
      "source": [
        "Para más funciones puede consultar [este enlace](https://docs.scipy.org/doc/numpy/reference/routines.math.html)."
      ]
    },
    {
      "cell_type": "markdown",
      "metadata": {
        "id": "2hCOzQFBXmhC"
      },
      "source": [
        "#### <center> **TABLA DE FUNCIONES BÁSICAS** </center>\n",
        "\n",
        "|    Función  | Operador |      \n",
        "|:---------------:|:--------:|\n",
        "|  Valor absoluto |    np.abs()    | \n",
        "|  Exponencial    |     np.exp()   | \n",
        "| Logaritmo natural   |     np.log()    |     \n",
        "|       seno      |     np.sin()    | \n",
        "|      coseno      |     np.cos()   | \n",
        "|       tangente      |     np.tan()    | \n",
        "|     arcoseno      |     np.arcsin()    |\n",
        "|      arcocoseno      |     np.arccos()    |\n",
        "|       arcotangente    |    np.arctan()    |\n",
        "\n",
        "\n"
      ]
    }
  ]
}